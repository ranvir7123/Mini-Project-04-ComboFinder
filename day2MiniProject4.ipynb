{
  "nbformat": 4,
  "nbformat_minor": 0,
  "metadata": {
    "colab": {
      "provenance": [],
      "authorship_tag": "ABX9TyPyu6RJQlkWqznYh9iarOpk",
      "include_colab_link": true
    },
    "kernelspec": {
      "name": "python3",
      "display_name": "Python 3"
    },
    "language_info": {
      "name": "python"
    }
  },
  "cells": [
    {
      "cell_type": "markdown",
      "metadata": {
        "id": "view-in-github",
        "colab_type": "text"
      },
      "source": [
        "<a href=\"https://colab.research.google.com/github/ranvir7123/Mini-Project-04-ComboFinder/blob/main/day2MiniProject4.ipynb\" target=\"_parent\"><img src=\"https://colab.research.google.com/assets/colab-badge.svg\" alt=\"Open In Colab\"/></a>"
      ]
    },
    {
      "cell_type": "code",
      "execution_count": null,
      "metadata": {
        "colab": {
          "base_uri": "https://localhost:8080/"
        },
        "id": "9PP3rLRYdd6S",
        "outputId": "3a227473-7fa3-434e-c618-da8d53aa6f61"
      },
      "outputs": [
        {
          "output_type": "stream",
          "name": "stdout",
          "text": [
            "[[10, 65, 45, 15, 55, 75, 35], [55, 40, 20, 75, 70, 45], [75, 20, 15, 50, 45, 30, 65], [75, 35, 30, 50, 25, 70, 10], [45, 25, 70, 50, 10, 60, 40], [35, 65, 40, 55, 75, 30], [45, 55, 10, 70, 50, 35, 40], [50, 10, 25, 45, 35, 75, 55], [50, 10, 30, 35, 15, 45, 20, 55, 40], [15, 55, 70, 50, 45, 60], [45, 70, 20, 75, 35, 15, 25, 10], [55, 15, 75, 65, 45, 20, 25], [60, 70, 65, 35, 55, 10], [55, 25, 75, 35, 50, 60], [45, 75, 35, 50, 25, 65], [60, 55, 45, 70, 40, 30], [60, 10, 20, 75, 55, 30, 45], [40, 45, 20, 10, 55, 75, 60], [15, 65, 10, 45, 25, 55, 20, 70], [50, 45, 75, 65, 70], [60, 15, 25, 30, 55, 65, 45], [35, 45, 70, 15, 60, 40, 30], [40, 25, 55, 45, 75, 35, 20], [40, 75, 10, 25, 65, 35, 50], [55, 75, 60, 50, 65], [60, 65, 35, 50, 15, 30, 40], [55, 65, 45, 10, 75, 25, 20], [70, 60, 30, 50, 40, 10, 45], [30, 20, 60, 75, 25, 45, 40], [25, 20, 45, 15, 70, 30, 35, 65], [15, 55, 60, 70, 40, 35, 25], [30, 40, 75, 60, 45, 50], [45, 25, 50, 55, 30, 15, 75]]\n"
          ]
        }
      ],
      "source": [
        "from os import killpg\n",
        "l = {'p1':10, 'p2':15, 'p3':20, 'p4':25, 'p5':30, 'p6':35, 'p7':50,'p8':40, 'p9':55, 'p10':60, 'p11':65, 'p12':75, 'p13':70,'p14':45}\n",
        "import random as r\n",
        "\n",
        "final = []\n",
        "iteration = 1000\n",
        "\n",
        "for i in range(iteration):\n",
        "  k = r.randint(2,len(l))\n",
        "  l1 = r.sample(list(l.values()),k)\n",
        "  j = sum(l1)\n",
        "  if j >290 and j <310:\n",
        "    final.append(l1)\n",
        "\n",
        "print(final)"
      ]
    }
  ]
}